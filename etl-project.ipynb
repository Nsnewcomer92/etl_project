{
 "cells": [
  {
   "cell_type": "code",
   "execution_count": null,
   "metadata": {},
   "outputs": [],
   "source": [
    "import pandas as pd\n",
    "import csv\n",
    "import json"
   ]
  },
  {
   "cell_type": "code",
   "execution_count": null,
   "metadata": {
    "scrolled": true
   },
   "outputs": [],
   "source": [
    "avocado_file = \"Resources/avocado.csv\"\n",
    "avocado_df = pd.read_csv(avocado_file)\n",
    "avocado_df.head()"
   ]
  },
  {
   "cell_type": "code",
   "execution_count": null,
   "metadata": {
    "scrolled": true
   },
   "outputs": [],
   "source": [
    "wine_file = \"Resources/wine.csv\"\n",
    "wine_df = pd.read_csv(wine_file)\n",
    "wine_df.head()"
   ]
  },
  {
   "cell_type": "code",
   "execution_count": null,
   "metadata": {},
   "outputs": [],
   "source": [
    "avocado_df = avocado_df.rename(columns={\"4046\": \"Small/Medium Avocado\",\n",
    "                                                \"4225\": \"Large Avocado\",\n",
    "                                                \"4770\": \"Extra Large Avocado\"})\n",
    "\n",
    "avocado_df['Date'].count()\n",
    "avocado_df.head()"
   ]
  },
  {
   "cell_type": "code",
   "execution_count": null,
   "metadata": {},
   "outputs": [],
   "source": [
    "new_avocado_df = avocado_df.dropna()\n",
    "new_avocado_df.set_index(\"id\", inplace=True)\n",
    "new_avocado_df.head()\n",
    "new_avocado_df.to_csv('Resources/cleaned_avocado.csv', index=False)"
   ]
  },
  {
   "cell_type": "code",
   "execution_count": null,
   "metadata": {},
   "outputs": [],
   "source": [
    "new_wine_df = wine_df.drop(columns=[\"region_1\", \"region_2\", \"taster_name\", \"taster_twitter_handle\"])\n",
    "new_wine_df = new_wine_df.dropna()\n",
    "new_wine_df.set_index(\"id\", inplace=True)\n",
    "new_wine_df.head()"
   ]
  },
  {
   "cell_type": "code",
   "execution_count": null,
   "metadata": {},
   "outputs": [],
   "source": [
    "wine_df_var = new_wine_df.to_json(r'./Resources/new_wine.json', orient='records')"
   ]
  },
  {
   "cell_type": "code",
   "execution_count": null,
   "metadata": {},
   "outputs": [],
   "source": [
    "new_wine_df.to_csv('Resources/cleaned_wine.csv', index=False)"
   ]
  },
  {
   "cell_type": "code",
   "execution_count": null,
   "metadata": {},
   "outputs": [],
   "source": [
    "csvfile = open('Resources/cleaned_avocado.csv', 'r')\n",
    "jsonfile = open('Resources/avocado.json', 'w')\n",
    "\n",
    "fieldnames = (\"id\",\"Date\",\"AveragePrice\",\"Total Volume\",\"Small/Medium Avocado\",\"Large Avocado\",\"Extra Large Avocado\",\"Total_Bags\",\"Small_Bags\",\"Large_Bags\",\"XLarge_Bags\",\"type\",\"year\", \"region\")\n",
    "reader = csv.DictReader( csvfile, fieldnames)\n",
    "for row in reader:\n",
    "    json.dump(row, jsonfile)\n",
    "    jsonfile.write('\\n')"
   ]
  },
  {
   "cell_type": "code",
   "execution_count": null,
   "metadata": {},
   "outputs": [],
   "source": [
    "csvfile = open('Resources/cleaned_wine.csv', 'r')\n",
    "jsonfile = open('Resources/wine.json', 'w')\n",
    "\n",
    "fieldnames = (\"id\",\"country\",\"description\",\"designation\",\"points\",\"price\",\"province\",\"title\",\"variety\",\"winery\")\n",
    "reader = csv.DictReader( csvfile, fieldnames)\n",
    "for row in reader:\n",
    "    json.dump(row, jsonfile)\n",
    "    jsonfile.write('\\n')"
   ]
  },
  {
   "cell_type": "code",
   "execution_count": null,
   "metadata": {},
   "outputs": [],
   "source": []
  }
 ],
 "metadata": {
  "kernelspec": {
   "display_name": "Python 3",
   "language": "python",
   "name": "python3"
  },
  "language_info": {
   "codemirror_mode": {
    "name": "ipython",
    "version": 3
   },
   "file_extension": ".py",
   "mimetype": "text/x-python",
   "name": "python",
   "nbconvert_exporter": "python",
   "pygments_lexer": "ipython3",
   "version": "3.7.4"
  }
 },
 "nbformat": 4,
 "nbformat_minor": 2
}
